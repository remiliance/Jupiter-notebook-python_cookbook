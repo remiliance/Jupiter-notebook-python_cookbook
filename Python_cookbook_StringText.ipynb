{
 "cells": [
  {
   "cell_type": "code",
   "execution_count": 8,
   "metadata": {},
   "outputs": [
    {
     "name": "stdout",
     "output_type": "stream",
     "text": [
      "['asdf', 'fjdk;', 'afed,', 'fjek,asdf,', 'foo']\n"
     ]
    },
    {
     "data": {
      "text/plain": [
       "['asdf', 'fjdk', 'afed', 'fjek', 'asdf', 'foo']"
      ]
     },
     "execution_count": 8,
     "metadata": {},
     "output_type": "execute_result"
    }
   ],
   "source": [
    "# splitter un string selon plusieurs caractère - multiple patterns for the separator\n",
    "line = 'asdf fjdk; afed, fjek,asdf, foo'\n",
    "c=line.split(' ')\n",
    "print(c)\n",
    "\n",
    "import re\n",
    "re.split(r'[;,\\s]\\s*', line)\n"
   ]
  },
  {
   "cell_type": "code",
   "execution_count": 13,
   "metadata": {},
   "outputs": [
    {
     "name": "stdout",
     "output_type": "stream",
     "text": [
      "True\n"
     ]
    },
    {
     "data": {
      "text/plain": [
       "False"
      ]
     },
     "execution_count": 13,
     "metadata": {},
     "output_type": "execute_result"
    }
   ],
   "source": [
    "#string start or end with\n",
    "\n",
    "filename = 'spam.txt'\n",
    "print(filename.endswith('.txt'))\n",
    "filename.startswith('file:')"
   ]
  },
  {
   "cell_type": "code",
   "execution_count": 23,
   "metadata": {},
   "outputs": [
    {
     "name": "stdout",
     "output_type": "stream",
     "text": [
      "['Makefile', 'foo.c', 'bar.py', 'spam.c', 'spam.h']\n",
      "['foo.c', 'spam.c', 'spam.h']\n"
     ]
    },
    {
     "data": {
      "text/plain": [
       "True"
      ]
     },
     "execution_count": 23,
     "metadata": {},
     "output_type": "execute_result"
    }
   ],
   "source": [
    "import os\n",
    "filesnames = os.listdir('.')\n",
    "filesnames = [ 'Makefile', 'foo.c', 'bar.py', 'spam.c', 'spam.h' ]\n",
    "print(filesnames)\n",
    "print([name for name in filesnames if name.endswith(('.c', '.h')) ])\n",
    "any(name.endswith('.py') for name in filesnames)"
   ]
  },
  {
   "cell_type": "code",
   "execution_count": 25,
   "metadata": {},
   "outputs": [
    {
     "data": {
      "text/plain": [
       "True"
      ]
     },
     "execution_count": 25,
     "metadata": {},
     "output_type": "execute_result"
    }
   ],
   "source": [
    "#! attention selon tuple, non liste\n",
    "choices = ('http:', 'ftp:')\n",
    "url = 'http://www.python.org'\n",
    "url.startswith(choices)"
   ]
  },
  {
   "cell_type": "code",
   "execution_count": null,
   "metadata": {},
   "outputs": [],
   "source": [
    "The startswith() and endswith() methods provide a very convenient way to perform\n",
    "basic prefix and suffix checking. Similar operations can be performed with slices, but\n",
    "are far less elegant. For example:\n",
    ">>> filename = 'spam.txt'\n",
    ">>> filename[-4:] == '.txt'\n",
    "True\n",
    ">>> url = 'http://www.python.org'\n",
    ">>> url[:5] == 'http:' or url[:6] == 'https:' or url[:4] == 'ftp:'\n",
    "True\n",
    ">>>"
   ]
  },
  {
   "cell_type": "code",
   "execution_count": null,
   "metadata": {},
   "outputs": [],
   "source": [
    "The startswith() and endswith() methods provide a very convenient way to perform\n",
    "basic prefix and suffix checking. Similar operations can be performed with slices, but\n",
    "are far less elegant. For example:\n",
    ">>> filename = 'spam.txt'\n",
    ">>> filename[-4:] == '.txt'\n",
    "True\n",
    ">>> url = 'http://www.python.org'\n",
    ">>> url[:5] == 'http:' or url[:6] == 'https:' or url[:4] == 'ftp:'\n",
    "True\n",
    "\n",
    ">>> names = ['Dat1.csv', 'Dat2.csv', 'config.ini', 'foo.py']\n",
    ">>> [name for name in names if fnmatch(name, 'Dat*.csv')]\n",
    "['Dat1.csv', 'Dat2.csv']\n",
    ">>>"
   ]
  },
  {
   "cell_type": "code",
   "execution_count": 26,
   "metadata": {},
   "outputs": [
    {
     "data": {
      "text/plain": [
       "13"
      ]
     },
     "execution_count": 26,
     "metadata": {},
     "output_type": "execute_result"
    }
   ],
   "source": [
    "url = 'http://www.python.org'\n",
    "url.find('thon')"
   ]
  },
  {
   "cell_type": "code",
   "execution_count": 32,
   "metadata": {},
   "outputs": [
    {
     "name": "stdout",
     "output_type": "stream",
     "text": [
      "yes\n"
     ]
    }
   ],
   "source": [
    "#using \"match\" to compare strings\n",
    "text1=\"remi\"\n",
    "text2=\"remi\"\n",
    "text1 is text2\n",
    "import re\n",
    "if re.match(\"remi\",text2):\n",
    "    print(\"yes\")\n",
    "#  re.match(r'\\d+/\\d+/\\d+', text1):"
   ]
  },
  {
   "cell_type": "code",
   "execution_count": 33,
   "metadata": {},
   "outputs": [
    {
     "data": {
      "text/plain": [
       "'yep, but no, but yep, but no, but yep'"
      ]
     },
     "execution_count": 33,
     "metadata": {},
     "output_type": "execute_result"
    }
   ],
   "source": [
    "# replace\n",
    "text = 'yeah, but no, but yeah, but no, but yeah'\n",
    "text.replace('yeah', 'yep')"
   ]
  },
  {
   "cell_type": "code",
   "execution_count": null,
   "metadata": {},
   "outputs": [],
   "source": [
    "#case sensitive"
   ]
  }
 ],
 "metadata": {
  "kernelspec": {
   "display_name": "Python 3",
   "language": "python",
   "name": "python3"
  },
  "language_info": {
   "codemirror_mode": {
    "name": "ipython",
    "version": 3
   },
   "file_extension": ".py",
   "mimetype": "text/x-python",
   "name": "python",
   "nbconvert_exporter": "python",
   "pygments_lexer": "ipython3",
   "version": "3.8.10"
  }
 },
 "nbformat": 4,
 "nbformat_minor": 4
}
