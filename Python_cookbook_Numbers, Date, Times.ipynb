{
 "cells": [
  {
   "cell_type": "markdown",
   "metadata": {},
   "source": [
    "round"
   ]
  },
  {
   "cell_type": "code",
   "execution_count": 1,
   "metadata": {},
   "outputs": [
    {
     "data": {
      "text/plain": [
       "1.254"
      ]
     },
     "execution_count": 1,
     "metadata": {},
     "output_type": "execute_result"
    }
   ],
   "source": [
    "#rounding / formatting\n",
    "round(1.25361,3)"
   ]
  },
  {
   "cell_type": "code",
   "execution_count": 3,
   "metadata": {},
   "outputs": [
    {
     "data": {
      "text/plain": [
       "'1.235'"
      ]
     },
     "execution_count": 3,
     "metadata": {},
     "output_type": "execute_result"
    }
   ],
   "source": [
    "x = 1.23456\n",
    "format(x, '0.3f')"
   ]
  },
  {
   "cell_type": "code",
   "execution_count": 6,
   "metadata": {},
   "outputs": [
    {
     "name": "stdout",
     "output_type": "stream",
     "text": [
      "6.300000000000001\n"
     ]
    },
    {
     "data": {
      "text/plain": [
       "False"
      ]
     },
     "execution_count": 6,
     "metadata": {},
     "output_type": "execute_result"
    }
   ],
   "source": [
    "#Warning!!!!!!!!!!!!!\n",
    "a = 2.1\n",
    "b = 4.2\n",
    "c = a + b\n",
    "print(c)\n",
    "(a+b)==6.3"
   ]
  },
  {
   "cell_type": "code",
   "execution_count": 9,
   "metadata": {},
   "outputs": [
    {
     "name": "stdout",
     "output_type": "stream",
     "text": [
      "6.3\n"
     ]
    },
    {
     "data": {
      "text/plain": [
       "True"
      ]
     },
     "execution_count": 9,
     "metadata": {},
     "output_type": "execute_result"
    }
   ],
   "source": [
    "#use decimal module\n",
    "from decimal import Decimal\n",
    "a = Decimal('4.2')\n",
    "b = Decimal('2.1')\n",
    "a + b\n",
    "print(a + b)\n",
    "(a + b) == Decimal('6.3')"
   ]
  },
  {
   "cell_type": "code",
   "execution_count": 18,
   "metadata": {},
   "outputs": [
    {
     "name": "stdout",
     "output_type": "stream",
     "text": [
      "[2.+3.j 4.+5.j 6.-7.j 8.+9.j]\n",
      "[ 4.+3.j  6.+5.j  8.-7.j 10.+9.j]\n",
      "[2.+3.j 4.+5.j 6.-7.j 8.+9.j]\n"
     ]
    }
   ],
   "source": [
    "import numpy as np\n",
    "a = np.array([2+3j, 4+5j, 6-7j, 8+9j])\n",
    "print(a)\n",
    "print(a+2) #!! n'affecte pas la valeur ici \n",
    "print(a)"
   ]
  },
  {
   "cell_type": "code",
   "execution_count": 23,
   "metadata": {},
   "outputs": [
    {
     "name": "stdout",
     "output_type": "stream",
     "text": [
      "27/16\n",
      "5\n",
      "1.25\n",
      "5/4\n"
     ]
    }
   ],
   "source": [
    "#Fraction\n",
    "from fractions import Fraction\n",
    "a = Fraction(5, 4)\n",
    "b = Fraction(7, 16)\n",
    "print(a + b)\n",
    "print(a.numerator)\n",
    "print(float(a))\n",
    "print(a)"
   ]
  },
  {
   "cell_type": "code",
   "execution_count": 30,
   "metadata": {},
   "outputs": [
    {
     "name": "stdout",
     "output_type": "stream",
     "text": [
      "[1, 2, 3, 4, 1, 2, 3, 4]\n",
      "[2 4 6 8]\n",
      "[3 4 5 6]\n"
     ]
    }
   ],
   "source": [
    "x = [1, 2, 3, 4]\n",
    "y = [5, 6, 7, 8]\n",
    "print(x*2)\n",
    "# x+2 ne marche pas => Il faut utiliser Numpy lib\n",
    "\n",
    "import numpy as np\n",
    "ax = np.array([1, 2, 3, 4])\n",
    "ay = np.array([5, 6, 7, 8])\n",
    "print(ax * 2)\n",
    "print(ax+2)"
   ]
  },
  {
   "cell_type": "code",
   "execution_count": 34,
   "metadata": {},
   "outputs": [
    {
     "name": "stdout",
     "output_type": "stream",
     "text": [
      "[1 2 3 4]\n"
     ]
    },
    {
     "data": {
      "text/plain": [
       "array([ 3,  6,  9, 12])"
      ]
     },
     "execution_count": 34,
     "metadata": {},
     "output_type": "execute_result"
    }
   ],
   "source": [
    " def f(x):\n",
    "    return 3*x\n",
    "print(ax)\n",
    "f(ax)"
   ]
  },
  {
   "cell_type": "code",
   "execution_count": null,
   "metadata": {},
   "outputs": [],
   "source": []
  }
 ],
 "metadata": {
  "kernelspec": {
   "display_name": "Python 3",
   "language": "python",
   "name": "python3"
  },
  "language_info": {
   "codemirror_mode": {
    "name": "ipython",
    "version": 3
   },
   "file_extension": ".py",
   "mimetype": "text/x-python",
   "name": "python",
   "nbconvert_exporter": "python",
   "pygments_lexer": "ipython3",
   "version": "3.8.10"
  }
 },
 "nbformat": 4,
 "nbformat_minor": 4
}
