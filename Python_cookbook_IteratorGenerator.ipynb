{
 "cells": [
  {
   "cell_type": "code",
   "execution_count": 3,
   "metadata": {},
   "outputs": [
    {
     "data": {
      "text/plain": [
       "[0, 0.125, 0.25, 0.375, 0.5, 0.625, 0.75, 0.875]"
      ]
     },
     "execution_count": 3,
     "metadata": {},
     "output_type": "execute_result"
    }
   ],
   "source": [
    "#personnaliser un for\n",
    "def frange(start, stop, increment):\n",
    "  x = start\n",
    "  while x < stop:\n",
    "   yield x\n",
    "   x += increment\n",
    "frange(0, 1, 0.125) # tjs \"un générator\", non exploitable en l'état\n",
    "list(frange(0, 1, 0.125))  # dépiler dans une liste"
   ]
  },
  {
   "cell_type": "code",
   "execution_count": 7,
   "metadata": {},
   "outputs": [
    {
     "name": "stdout",
     "output_type": "stream",
     "text": [
      "Je m'initialise à 40\n",
      "On a appelé __iter__\n",
      "On a appelé __next__\n",
      "On a appelé __next__\n",
      "On a appelé __next__\n",
      "On a appelé __next__\n",
      "On a appelé __next__\n",
      "On a appelé __next__\n",
      "On a appelé __next__\n",
      "On a appelé __next__\n",
      "On a appelé __next__\n"
     ]
    },
    {
     "data": {
      "text/plain": [
       "[42, 44, 46, 48, 50, 52, 54, 56]"
      ]
     },
     "execution_count": 7,
     "metadata": {},
     "output_type": "execute_result"
    }
   ],
   "source": [
    "class MyIterator:\n",
    "    def __init__(self):\n",
    "        print(\"Je m'initialise à 40\")\n",
    "        self.i = 40\n",
    "\n",
    "    def __iter__(self):\n",
    "        print(\"On a appelé __iter__\")\n",
    "        return self\n",
    "\n",
    "    def __next__(self):\n",
    "        print(\"On a appelé __next__\")\n",
    "        self.i += 2\n",
    "        if self.i > 56 :\n",
    "            raise StopIteration()\n",
    "        return self.i\n",
    "\n",
    "list(MyIterator())"
   ]
  },
  {
   "cell_type": "code",
   "execution_count": 17,
   "metadata": {},
   "outputs": [
    {
     "name": "stdout",
     "output_type": "stream",
     "text": [
      "<zip object at 0x7f5dc6e97440>\n",
      "[(1, 101), (5, 78), (4, 37), (2, 15), (10, 62), (7, 99)]\n"
     ]
    }
   ],
   "source": [
    "xpts = [1, 5, 4, 2, 10, 7]\n",
    "ypts = [101, 78, 37, 15, 62, 99]\n",
    "print(zip(xpts,ypts))\n",
    "d={}\n",
    "l=[]\n",
    "for x in zip(xpts,ypts):\n",
    "    l.append(x)\n",
    "print (l)"
   ]
  },
  {
   "cell_type": "code",
   "execution_count": 19,
   "metadata": {},
   "outputs": [],
   "source": [
    "#WHILE LOOP !! utiliser ITER, bcp plus puissant!\n",
    "CHUNKSIZE = 8192\n",
    "def reader(s):\n",
    " while True:\n",
    "    data = s.recv(CHUNKSIZE)\n",
    "    if data == b'':\n",
    "      break\n",
    "    process_data(data)\n",
    "#A REMPLACER PAR : \n",
    "\n",
    "def reader(s):\n",
    " for chunk in iter(lambda: s.recv(CHUNKSIZE), b''):\n",
    " process_data(data)"
   ]
  },
  {
   "cell_type": "code",
   "execution_count": null,
   "metadata": {},
   "outputs": [],
   "source": []
  }
 ],
 "metadata": {
  "kernelspec": {
   "display_name": "Python 3",
   "language": "python",
   "name": "python3"
  },
  "language_info": {
   "codemirror_mode": {
    "name": "ipython",
    "version": 3
   },
   "file_extension": ".py",
   "mimetype": "text/x-python",
   "name": "python",
   "nbconvert_exporter": "python",
   "pygments_lexer": "ipython3",
   "version": "3.8.10"
  }
 },
 "nbformat": 4,
 "nbformat_minor": 4
}
