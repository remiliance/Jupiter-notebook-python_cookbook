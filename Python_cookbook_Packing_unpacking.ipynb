{
 "cells": [
  {
   "cell_type": "code",
   "execution_count": 35,
   "metadata": {},
   "outputs": [
    {
     "name": "stdout",
     "output_type": "stream",
     "text": [
      "{'remi': 'leliance', 'georges': 'baron'}\n",
      "<class 'dict'>\n",
      "{'remi': 'leliance', 'georges': 'baron'}\n",
      "<class 'dict'>\n"
     ]
    }
   ],
   "source": [
    "def dico(**kwargs):\n",
    "    print(kwargs)\n",
    "    print(type(kwargs))\n",
    "\n",
    "def dicol(k):\n",
    "    print(k)\n",
    "    print(type(k))   \n",
    "  \n",
    "j={\"remi\":\"leliance\", \"georges\":\"baron\"}\n",
    "dico(**j)\n",
    "dicol(j)"
   ]
  },
  {
   "cell_type": "code",
   "execution_count": 37,
   "metadata": {},
   "outputs": [],
   "source": [
    "a,b,c,d,e=\"hello\""
   ]
  },
  {
   "cell_type": "code",
   "execution_count": 39,
   "metadata": {},
   "outputs": [
    {
     "name": "stdout",
     "output_type": "stream",
     "text": [
      "h\n",
      "r\n"
     ]
    }
   ],
   "source": [
    "print(a)\n",
    "a=\"r\"\n",
    "print(a)"
   ]
  },
  {
   "cell_type": "code",
   "execution_count": 44,
   "metadata": {},
   "outputs": [
    {
     "data": {
      "text/plain": [
       "['773-555-1212', '847-555-1212']"
      ]
     },
     "execution_count": 44,
     "metadata": {},
     "output_type": "execute_result"
    }
   ],
   "source": [
    "record = ('Dave', 'dave@example.com', '773-555-1212', '847-555-1212')\n",
    "name, email, *phone_numbers = record\n",
    "phone_numbers\n",
    "# concatène tous les dernier valeurs dans *\""
   ]
  },
  {
   "cell_type": "code",
   "execution_count": 46,
   "metadata": {},
   "outputs": [
    {
     "data": {
      "text/plain": [
       "[10, 8, 7, 1, 9, 5, 10]"
      ]
     },
     "execution_count": 46,
     "metadata": {},
     "output_type": "execute_result"
    }
   ],
   "source": [
    "*trailing, current = [10, 8, 7, 1, 9, 5, 10, 3]\n",
    "trailing\n",
    "# inverse"
   ]
  },
  {
   "cell_type": "code",
   "execution_count": 49,
   "metadata": {},
   "outputs": [
    {
     "name": "stdout",
     "output_type": "stream",
     "text": [
      "foo 1 2\n",
      "bar hello\n",
      "foo 3 4\n"
     ]
    }
   ],
   "source": [
    "records = [\n",
    " ('foo', 1, 2),\n",
    " ('bar', 'hello'),\n",
    " ('foo', 3, 4),\n",
    "]\n",
    "\n",
    "def do_foo(x, y):\n",
    " print('foo', x, y)\n",
    "\n",
    "def do_bar(s):\n",
    " print('bar', s)\n",
    "\n",
    "for tag, *args in records:\n",
    " if tag == 'foo':\n",
    "   do_foo(*args)\n",
    " elif tag == 'bar':\n",
    "   do_bar(*args)"
   ]
  },
  {
   "cell_type": "code",
   "execution_count": 51,
   "metadata": {},
   "outputs": [
    {
     "name": "stdout",
     "output_type": "stream",
     "text": [
      "foo 1 2 4\n",
      "bar hello\n",
      "foo 3 4\n"
     ]
    }
   ],
   "source": [
    "records = [\n",
    " ('foo', 1, 2,4),\n",
    " ('bar', 'hello'),\n",
    " ('foo', 3, 4),\n",
    "]\n",
    "\n",
    "def do_foo(*args):\n",
    " print('foo', *args)\n",
    "\n",
    "def do_bar(s):\n",
    " print('bar', s)\n",
    "\n",
    "for tag, *args in records:\n",
    " if tag == 'foo':\n",
    "   do_foo(*args)\n",
    " elif tag == 'bar':\n",
    "   do_bar(*args)"
   ]
  },
  {
   "cell_type": "code",
   "execution_count": 57,
   "metadata": {},
   "outputs": [
    {
     "name": "stdout",
     "output_type": "stream",
     "text": [
      "nobody\n",
      "['*', '-2', '-2', 'Unprivileged User']\n",
      "/var/empty\n"
     ]
    },
    {
     "data": {
      "text/plain": [
       "'/usr/bin/false'"
      ]
     },
     "execution_count": 57,
     "metadata": {},
     "output_type": "execute_result"
    }
   ],
   "source": [
    "line = 'nobody:*:-2:-2:Unprivileged User:/var/empty:/usr/bin/false'\n",
    "uname, *fields, homedir, sh = line.split(':')\n",
    "print(uname)\n",
    "print(fields)\n",
    "print(homedir)\n",
    "sh\n",
    "# genial! permet de sortrir les premiers et dernieres blocs. Le * prend tt le reste"
   ]
  },
  {
   "cell_type": "code",
   "execution_count": 60,
   "metadata": {},
   "outputs": [
    {
     "name": "stdout",
     "output_type": "stream",
     "text": [
      "ACME\n"
     ]
    },
    {
     "data": {
      "text/plain": [
       "2012"
      ]
     },
     "execution_count": 60,
     "metadata": {},
     "output_type": "execute_result"
    }
   ],
   "source": [
    "record = ('ACME', 50, 123.45, (12, 18, 2012))\n",
    "name, *_, (*_, year) = record\n",
    "print(name)\n",
    "year"
   ]
  },
  {
   "cell_type": "code",
   "execution_count": 69,
   "metadata": {},
   "outputs": [
    {
     "name": "stdout",
     "output_type": "stream",
     "text": [
      "deque([2, 3, 4], maxlen=3)\n",
      "deque([4, 2, 3], maxlen=3)\n",
      "deque([2, 3], maxlen=3)\n"
     ]
    }
   ],
   "source": [
    "# une liste de longueur prédéfinie (maxlen)\n",
    "from collections import deque\n",
    "q = deque(maxlen=3)\n",
    "q.append(1)\n",
    "q.append(2)\n",
    "q.append(3)\n",
    "q.append(4)\n",
    "print(q)\n",
    "q.appendleft(4)\n",
    "print(q)\n",
    "q.popleft()\n",
    "print(q)"
   ]
  },
  {
   "cell_type": "code",
   "execution_count": 175,
   "metadata": {},
   "outputs": [
    {
     "name": "stdout",
     "output_type": "stream",
     "text": [
      "[42, 37, 23]\n",
      "[-4, 1, 2]\n",
      "[{'name': 'YHOO', 'shares': 45, 'price': 16.35}, {'name': 'FB', 'shares': 200, 'price': 21.09}, {'name': 'HPQ', 'shares': 35, 'price': 31.75}]\n",
      "16.35\n"
     ]
    }
   ],
   "source": [
    "import heapq\n",
    "\n",
    "nums = [1, 8, 2, 23, 7, -4, 18, 23, 42, 37, 2]\n",
    "print(heapq.nlargest(3, nums)) # Prints [42, 37, 23]\n",
    "print(heapq.nsmallest(3, nums)) # Prints [-4, 1, 2]\n",
    "\n",
    "\n",
    "portfolio = [\n",
    " {'name': 'IBM', 'shares': 100, 'price': 91.1},\n",
    " {'name': 'AAPL', 'shares': 50, 'price': 543.22},\n",
    " {'name': 'FB', 'shares': 200, 'price': 21.09},\n",
    " {'name': 'HPQ', 'shares': 35, 'price': 31.75},\n",
    " {'name': 'YHOO', 'shares': 45, 'price': 16.35},\n",
    " {'name': 'ACME', 'shares': 75, 'price': 115.65}\n",
    "]\n",
    "cheap = heapq.nsmallest(3, portfolio, key=lambda s: s['price'])\n",
    "expensive = heapq.nlargest(3, portfolio, key=lambda s: s['price'])\n",
    "print(cheap)\n",
    "\n",
    "\n",
    "min_shares = min(s['price'] for s in portfolio)\n",
    "print(min_shares)"
   ]
  },
  {
   "cell_type": "code",
   "execution_count": null,
   "metadata": {},
   "outputs": [],
   "source": []
  },
  {
   "cell_type": "code",
   "execution_count": 81,
   "metadata": {},
   "outputs": [
    {
     "data": {
      "text/plain": [
       "defaultdict(list, {'a': [1, 2], 'b': [4]})"
      ]
     },
     "execution_count": 81,
     "metadata": {},
     "output_type": "execute_result"
    }
   ],
   "source": [
    "from collections import defaultdict\n",
    "# permet d'avoir des listes en valeurs. Plus simple à gérer\n",
    "d = defaultdict(list)\n",
    "d['a'].append(1)\n",
    "d['a'].append(2)\n",
    "d['b'].append(4)\n",
    "d"
   ]
  },
  {
   "cell_type": "code",
   "execution_count": 94,
   "metadata": {},
   "outputs": [
    {
     "name": "stdout",
     "output_type": "stream",
     "text": [
      "(10.75, 'FB')\n",
      "(612.78, 'AAPL')\n",
      "[(10.75, 'FB'), (37.2, 'HPQ'), (45.23, 'ACME'), (205.55, 'IBM'), (612.78, 'AAPL')]\n",
      "AAPL\n"
     ]
    },
    {
     "data": {
      "text/plain": [
       "612.78"
      ]
     },
     "execution_count": 94,
     "metadata": {},
     "output_type": "execute_result"
    }
   ],
   "source": [
    "prices = {\n",
    " 'ACME': 45.23,\n",
    " 'AAPL': 612.78,\n",
    " 'IBM': 205.55,\n",
    " 'HPQ': 37.20,\n",
    " 'FB': 10.75\n",
    "}\n",
    "\n",
    "min_price = min(zip(prices.values(), prices.keys()))\n",
    "# min_price is (10.75, 'FB')\n",
    "print(min_price)\n",
    "max_price = max(zip(prices.values(), prices.keys()))\n",
    "# max_price is (612.78, 'AAPL')\n",
    "print(max_price)\n",
    "prices_sorted = sorted(zip(prices.values(), prices.keys()))\n",
    "print(prices_sorted)\n",
    "print(min(prices.keys()))\n",
    "max(prices.values())"
   ]
  },
  {
   "cell_type": "code",
   "execution_count": 98,
   "metadata": {},
   "outputs": [
    {
     "data": {
      "text/plain": [
       "'AAPL'"
      ]
     },
     "execution_count": 98,
     "metadata": {},
     "output_type": "execute_result"
    }
   ],
   "source": [
    "#min/max\n",
    "min(prices, key=lambda k: prices[k]) # Returns 'FB'\n",
    "max(prices, key=lambda k: prices[k]) # Returns 'AAPL'"
   ]
  },
  {
   "cell_type": "code",
   "execution_count": 100,
   "metadata": {},
   "outputs": [
    {
     "data": {
      "text/plain": [
       "10.75"
      ]
     },
     "execution_count": 100,
     "metadata": {},
     "output_type": "execute_result"
    }
   ],
   "source": [
    "#min/max\n",
    "min_value = prices[min(prices, key=lambda k: prices[k])]\n",
    "min_value"
   ]
  },
  {
   "cell_type": "code",
   "execution_count": 102,
   "metadata": {},
   "outputs": [
    {
     "data": {
      "text/plain": [
       "{('y', 2)}"
      ]
     },
     "execution_count": 102,
     "metadata": {},
     "output_type": "execute_result"
    }
   ],
   "source": [
    "# You have two dictionaries and want to find out what they might have in common (same\n",
    "# keys, same values, etc.).\n",
    "# Find keys in common\n",
    "a = {\n",
    " 'x' : 1,\n",
    " 'y' : 2,\n",
    " 'z' : 3\n",
    "}\n",
    "b = {\n",
    " 'w' : 10,\n",
    " 'x' : 11,\n",
    " 'y' : 2\n",
    "}\n",
    "a.keys() & b.keys() # { 'x', 'y' }\n",
    "# Find keys in a that are not in b\n",
    "a.keys() - b.keys() # { 'z' }\n",
    "# Find (key,value) pairs in common\n",
    "a.items() & b.items() # { ('y', 2) }"
   ]
  },
  {
   "cell_type": "code",
   "execution_count": 103,
   "metadata": {},
   "outputs": [],
   "source": [
    "# Make a new dictionary with certain keys removed\n",
    "c = {key:a[key] for key in a.keys() - {'z', 'w'}}\n",
    "# c is {'x': 1, 'y': 2}"
   ]
  },
  {
   "cell_type": "code",
   "execution_count": 138,
   "metadata": {},
   "outputs": [
    {
     "name": "stdout",
     "output_type": "stream",
     "text": [
      "1\n",
      "5\n"
     ]
    }
   ],
   "source": [
    "# removing duplicate!!\n",
    "def dedupe(items):\n",
    " seen = set()\n",
    " for item in items:\n",
    "   if item not in seen:\n",
    "    yield item\n",
    "    seen.add(item)\n",
    " print(\"liste ::: {}\".format(seen))\n",
    " #print(\"Item %s\" %item)\n",
    "\n",
    "a = [1, 5, 2, 1, 9, 1, 5, 10]\n",
    "gene=dedupe(a)\n",
    "print(next(gene))\n",
    "print(next(gene))\n"
   ]
  },
  {
   "cell_type": "code",
   "execution_count": 140,
   "metadata": {},
   "outputs": [
    {
     "data": {
      "text/plain": [
       "{1, 2, 5, 9, 10}"
      ]
     },
     "execution_count": 140,
     "metadata": {},
     "output_type": "execute_result"
    }
   ],
   "source": [
    "#If all you want to do is eliminate duplicates, it is often easy enough to make a set. For\n",
    "#example:\n",
    "a = [1, 5, 2, 1, 9, 1, 5, 10]\n",
    "set(a)\n"
   ]
  },
  {
   "cell_type": "code",
   "execution_count": 141,
   "metadata": {},
   "outputs": [
    {
     "data": {
      "text/plain": [
       "[2, 3]"
      ]
     },
     "execution_count": 141,
     "metadata": {},
     "output_type": "execute_result"
    }
   ],
   "source": [
    "# Slice\n",
    "items = [0, 1, 2, 3, 4, 5, 6]\n",
    "a = slice(2, 4)\n",
    "items[2:4]\n",
    "[2, 3]"
   ]
  },
  {
   "cell_type": "code",
   "execution_count": 145,
   "metadata": {},
   "outputs": [
    {
     "name": "stdout",
     "output_type": "stream",
     "text": [
      "Counter({'eyes': 8, 'the': 5, 'look': 4, 'into': 3, 'my': 3, 'around': 2, 'not': 1, \"don't\": 1, \"you're\": 1, 'under': 1})\n",
      "[('eyes', 8), ('the', 5), ('look', 4)]\n",
      "8\n"
     ]
    }
   ],
   "source": [
    "#manipulation des mots dans une chaine\n",
    "words = [\n",
    " 'look', 'into', 'my', 'eyes', 'look', 'into', 'my', 'eyes',\n",
    " 'the', 'eyes', 'the', 'eyes', 'the', 'eyes', 'not', 'around', 'the',\n",
    " 'eyes', \"don't\", 'look', 'around', 'the', 'eyes', 'look', 'into',\n",
    " 'my', 'eyes', \"you're\", 'under'\n",
    "]\n",
    "from collections import Counter\n",
    "word_counts = Counter(words)\n",
    "print(word_counts)\n",
    "top_three = word_counts.most_common(3)\n",
    "print(top_three)\n",
    "# Outputs [('eyes', 8), ('the', 5), ('look', 4)]\n",
    "print( word_counts['eyes'])"
   ]
  },
  {
   "cell_type": "code",
   "execution_count": 148,
   "metadata": {},
   "outputs": [
    {
     "name": "stdout",
     "output_type": "stream",
     "text": [
      "1\n",
      "2\n",
      "3\n",
      "4\n",
      "5\n",
      "6\n"
     ]
    }
   ],
   "source": [
    "# generateur avec (): filtre sur une liste très longue, la comprehensive list bof bof\n",
    "items = [0, 1, 2, 3, 4, 5, 6]\n",
    "pos = (n for n in items if n > 0)\n",
    "for x in pos:\n",
    "      print(x)"
   ]
  },
  {
   "cell_type": "code",
   "execution_count": 149,
   "metadata": {},
   "outputs": [
    {
     "name": "stdout",
     "output_type": "stream",
     "text": [
      "['1', '2', '-3', '4', '5']\n"
     ]
    }
   ],
   "source": [
    "#cleaner une liste (garder les int)\n",
    "values = ['1', '2', '-3', '-', '4', 'N/A', '5']\n",
    "def is_int(val):\n",
    " try:\n",
    "        x = int(val)\n",
    "        return True\n",
    " except ValueError:\n",
    "        return False\n",
    "    \n",
    "ivals = list(filter(is_int, values))\n",
    "print(ivals)\n",
    "# Outputs ['1', '2', '-3', '4', '5']"
   ]
  },
  {
   "cell_type": "code",
   "execution_count": 151,
   "metadata": {},
   "outputs": [
    {
     "data": {
      "text/plain": [
       "set"
      ]
     },
     "execution_count": 151,
     "metadata": {},
     "output_type": "execute_result"
    }
   ],
   "source": [
    "# Extracting a Subset of a Dictionary // comprehensive list avec dico!)\n",
    "prices = {\n",
    " 'ACME': 45.23,\n",
    " 'AAPL': 612.78,\n",
    " 'IBM': 205.55,\n",
    " 'HPQ': 37.20,\n",
    " 'FB': 10.75\n",
    "}\n",
    "# Make a dictionary of all prices over 200\n",
    "p1 = { key:value for key, value in prices.items() if value > 200 }\n",
    "# Make a dictionary of tech stocks\n",
    "tech_names = { 'AAPL', 'IBM', 'HPQ', 'MSFT' }\n",
    "p2 = { key:value for key,value in prices.items() if key in tech_names }\n",
    "type(tech_names)"
   ]
  },
  {
   "cell_type": "code",
   "execution_count": 172,
   "metadata": {},
   "outputs": [
    {
     "name": "stdout",
     "output_type": "stream",
     "text": [
      "35\n",
      "<class 'int'>\n"
     ]
    }
   ],
   "source": [
    "# minimum\n",
    "portfolio = [\n",
    " {'name': 'IBM', 'shares': 100, 'price': 91.1},\n",
    " {'name': 'AAPL', 'shares': 50, 'price': 543.22},\n",
    " {'name': 'FB', 'shares': 200, 'price': 21.09},\n",
    " {'name': 'HPQ', 'shares': 35, 'price': 31.75},\n",
    " {'name': 'YHOO', 'shares': 45, 'price': 16.35},\n",
    " {'name': 'ACME', 'shares': 75, 'price': 115.65}\n",
    "]\n",
    "\n",
    "\n",
    "min_shares = min(s['shares'] for s in portfolio)\n",
    "print(min_shares)"
   ]
  },
  {
   "cell_type": "code",
   "execution_count": 164,
   "metadata": {},
   "outputs": [
    {
     "name": "stdout",
     "output_type": "stream",
     "text": [
      "<class 'int'>\n",
      "55\n"
     ]
    }
   ],
   "source": [
    "nums = [1, 2, 3, 4, 5]\n",
    "s = sum([x * x for x in nums])\n",
    "s2 = sum((x * x for x in nums))\n",
    "print(type(s2))\n",
    "print(s2)"
   ]
  },
  {
   "cell_type": "code",
   "execution_count": null,
   "metadata": {},
   "outputs": [],
   "source": []
  }
 ],
 "metadata": {
  "kernelspec": {
   "display_name": "Python 3",
   "language": "python",
   "name": "python3"
  },
  "language_info": {
   "codemirror_mode": {
    "name": "ipython",
    "version": 3
   },
   "file_extension": ".py",
   "mimetype": "text/x-python",
   "name": "python",
   "nbconvert_exporter": "python",
   "pygments_lexer": "ipython3",
   "version": "3.8.10"
  }
 },
 "nbformat": 4,
 "nbformat_minor": 4
}
